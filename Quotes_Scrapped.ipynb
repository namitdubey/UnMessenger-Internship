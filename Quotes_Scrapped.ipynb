{
 "cells": [
  {
   "cell_type": "markdown",
   "id": "28bb48e5",
   "metadata": {},
   "source": [
    "# Web Scrapping\n",
    "\n",
    "The objective of this project is to scrape Name of the author, Quotes and the Tags from a \"Quotes to Scrape\" website."
   ]
  },
  {
   "cell_type": "code",
   "execution_count": 1,
   "id": "679e9297",
   "metadata": {},
   "outputs": [],
   "source": [
    "# Importing Libraries\n",
    "\n",
    "import requests   # HTTP requests and content retrieval for web scraping.\n",
    "from bs4 import BeautifulSoup   # Parsing HTML content and extracting specific elements for web scraping.\n",
    "import pandas as pd   # Data manipulation and analysis using data frames."
   ]
  },
  {
   "cell_type": "code",
   "execution_count": 2,
   "id": "d0bd2c71",
   "metadata": {},
   "outputs": [],
   "source": [
    "# Create an empty list to colleect all data\n",
    "Content = []\n",
    "\n",
    "for i in range(1,11):\n",
    "    \n",
    "    # Create URL to collect links from paginated data\n",
    "    url = f\"https://quotes.toscrape.com/page/{i}/\"\n",
    "    \n",
    "     # Collect HTML data from this page\n",
    "    response = requests.get(url)\n",
    "    \n",
    "    # Parse content\n",
    "    response = response.content\n",
    "    soup = BeautifulSoup(response,'html.parser')\n",
    "    \n",
    "    # Find the div containing all the quotes\n",
    "    div = soup.find('div')\n",
    "    \n",
    "    # Find all the quotes\n",
    "    rows = div.find_all('div',class_ = 'quote')\n",
    "    \n",
    "    # Loop through each quote\n",
    "    for row in rows:\n",
    "        \n",
    "        # Find the name of the author\n",
    "        name = row.find('small',class_ = 'author').text\n",
    "        \n",
    "        # Find the quote\n",
    "        quote = row.find('span',class_ = 'text').text\n",
    "        \n",
    "        # Find the tags\n",
    "        tag = row.find('meta',class_='keywords')\n",
    "        tags = tag.attrs['content']\n",
    "        \n",
    "        # Append the name, quote, and tags to the Content list\n",
    "        Content.append([name,quote,tags])"
   ]
  },
  {
   "cell_type": "code",
   "execution_count": 3,
   "id": "40a761cb",
   "metadata": {},
   "outputs": [],
   "source": [
    "# Create a pandas dataframe from a Content list\n",
    "Quote_df = pd.DataFrame(Content,columns = ['Name','Quote','Tags'])"
   ]
  },
  {
   "cell_type": "code",
   "execution_count": 4,
   "id": "0ca6c6c9",
   "metadata": {},
   "outputs": [
    {
     "data": {
      "text/html": [
       "<div>\n",
       "<style scoped>\n",
       "    .dataframe tbody tr th:only-of-type {\n",
       "        vertical-align: middle;\n",
       "    }\n",
       "\n",
       "    .dataframe tbody tr th {\n",
       "        vertical-align: top;\n",
       "    }\n",
       "\n",
       "    .dataframe thead th {\n",
       "        text-align: right;\n",
       "    }\n",
       "</style>\n",
       "<table border=\"1\" class=\"dataframe\">\n",
       "  <thead>\n",
       "    <tr style=\"text-align: right;\">\n",
       "      <th></th>\n",
       "      <th>Name</th>\n",
       "      <th>Quote</th>\n",
       "      <th>Tags</th>\n",
       "    </tr>\n",
       "  </thead>\n",
       "  <tbody>\n",
       "    <tr>\n",
       "      <th>0</th>\n",
       "      <td>Albert Einstein</td>\n",
       "      <td>“The world as we have created it is a process ...</td>\n",
       "      <td>change,deep-thoughts,thinking,world</td>\n",
       "    </tr>\n",
       "    <tr>\n",
       "      <th>1</th>\n",
       "      <td>J.K. Rowling</td>\n",
       "      <td>“It is our choices, Harry, that show what we t...</td>\n",
       "      <td>abilities,choices</td>\n",
       "    </tr>\n",
       "    <tr>\n",
       "      <th>2</th>\n",
       "      <td>Albert Einstein</td>\n",
       "      <td>“There are only two ways to live your life. On...</td>\n",
       "      <td>inspirational,life,live,miracle,miracles</td>\n",
       "    </tr>\n",
       "    <tr>\n",
       "      <th>3</th>\n",
       "      <td>Jane Austen</td>\n",
       "      <td>“The person, be it gentleman or lady, who has ...</td>\n",
       "      <td>aliteracy,books,classic,humor</td>\n",
       "    </tr>\n",
       "    <tr>\n",
       "      <th>4</th>\n",
       "      <td>Marilyn Monroe</td>\n",
       "      <td>“Imperfection is beauty, madness is genius and...</td>\n",
       "      <td>be-yourself,inspirational</td>\n",
       "    </tr>\n",
       "  </tbody>\n",
       "</table>\n",
       "</div>"
      ],
      "text/plain": [
       "              Name                                              Quote   \n",
       "0  Albert Einstein  “The world as we have created it is a process ...  \\\n",
       "1     J.K. Rowling  “It is our choices, Harry, that show what we t...   \n",
       "2  Albert Einstein  “There are only two ways to live your life. On...   \n",
       "3      Jane Austen  “The person, be it gentleman or lady, who has ...   \n",
       "4   Marilyn Monroe  “Imperfection is beauty, madness is genius and...   \n",
       "\n",
       "                                       Tags  \n",
       "0       change,deep-thoughts,thinking,world  \n",
       "1                         abilities,choices  \n",
       "2  inspirational,life,live,miracle,miracles  \n",
       "3             aliteracy,books,classic,humor  \n",
       "4                 be-yourself,inspirational  "
      ]
     },
     "execution_count": 4,
     "metadata": {},
     "output_type": "execute_result"
    }
   ],
   "source": [
    "Quote_df.head()    #  Displays the first rows of the DataFrame."
   ]
  },
  {
   "cell_type": "code",
   "execution_count": 5,
   "id": "cc65cfda",
   "metadata": {},
   "outputs": [
    {
     "data": {
      "text/html": [
       "<div>\n",
       "<style scoped>\n",
       "    .dataframe tbody tr th:only-of-type {\n",
       "        vertical-align: middle;\n",
       "    }\n",
       "\n",
       "    .dataframe tbody tr th {\n",
       "        vertical-align: top;\n",
       "    }\n",
       "\n",
       "    .dataframe thead th {\n",
       "        text-align: right;\n",
       "    }\n",
       "</style>\n",
       "<table border=\"1\" class=\"dataframe\">\n",
       "  <thead>\n",
       "    <tr style=\"text-align: right;\">\n",
       "      <th></th>\n",
       "      <th>Name</th>\n",
       "      <th>Quote</th>\n",
       "      <th>Tags</th>\n",
       "    </tr>\n",
       "  </thead>\n",
       "  <tbody>\n",
       "    <tr>\n",
       "      <th>95</th>\n",
       "      <td>Harper Lee</td>\n",
       "      <td>“You never really understand a person until yo...</td>\n",
       "      <td>better-life-empathy</td>\n",
       "    </tr>\n",
       "    <tr>\n",
       "      <th>96</th>\n",
       "      <td>Madeleine L'Engle</td>\n",
       "      <td>“You have to write the book that wants to be w...</td>\n",
       "      <td>books,children,difficult,grown-ups,write,write...</td>\n",
       "    </tr>\n",
       "    <tr>\n",
       "      <th>97</th>\n",
       "      <td>Mark Twain</td>\n",
       "      <td>“Never tell the truth to people who are not wo...</td>\n",
       "      <td>truth</td>\n",
       "    </tr>\n",
       "    <tr>\n",
       "      <th>98</th>\n",
       "      <td>Dr. Seuss</td>\n",
       "      <td>“A person's a person, no matter how small.”</td>\n",
       "      <td>inspirational</td>\n",
       "    </tr>\n",
       "    <tr>\n",
       "      <th>99</th>\n",
       "      <td>George R.R. Martin</td>\n",
       "      <td>“... a mind needs books as a sword needs a whe...</td>\n",
       "      <td>books,mind</td>\n",
       "    </tr>\n",
       "  </tbody>\n",
       "</table>\n",
       "</div>"
      ],
      "text/plain": [
       "                  Name                                              Quote   \n",
       "95          Harper Lee  “You never really understand a person until yo...  \\\n",
       "96   Madeleine L'Engle  “You have to write the book that wants to be w...   \n",
       "97          Mark Twain  “Never tell the truth to people who are not wo...   \n",
       "98           Dr. Seuss        “A person's a person, no matter how small.”   \n",
       "99  George R.R. Martin  “... a mind needs books as a sword needs a whe...   \n",
       "\n",
       "                                                 Tags  \n",
       "95                                better-life-empathy  \n",
       "96  books,children,difficult,grown-ups,write,write...  \n",
       "97                                              truth  \n",
       "98                                      inspirational  \n",
       "99                                         books,mind  "
      ]
     },
     "execution_count": 5,
     "metadata": {},
     "output_type": "execute_result"
    }
   ],
   "source": [
    "Quote_df.tail()    #  displays the last rows of the DataFrame."
   ]
  },
  {
   "cell_type": "code",
   "execution_count": 6,
   "id": "187aea26",
   "metadata": {},
   "outputs": [
    {
     "name": "stdout",
     "output_type": "stream",
     "text": [
      "<class 'pandas.core.frame.DataFrame'>\n",
      "RangeIndex: 100 entries, 0 to 99\n",
      "Data columns (total 3 columns):\n",
      " #   Column  Non-Null Count  Dtype \n",
      "---  ------  --------------  ----- \n",
      " 0   Name    100 non-null    object\n",
      " 1   Quote   100 non-null    object\n",
      " 2   Tags    100 non-null    object\n",
      "dtypes: object(3)\n",
      "memory usage: 2.5+ KB\n"
     ]
    }
   ],
   "source": [
    "Quote_df.info()    # Prints a concise summary of the DataFrame"
   ]
  },
  {
   "cell_type": "code",
   "execution_count": 7,
   "id": "25a1c395",
   "metadata": {},
   "outputs": [
    {
     "data": {
      "text/html": [
       "<div>\n",
       "<style scoped>\n",
       "    .dataframe tbody tr th:only-of-type {\n",
       "        vertical-align: middle;\n",
       "    }\n",
       "\n",
       "    .dataframe tbody tr th {\n",
       "        vertical-align: top;\n",
       "    }\n",
       "\n",
       "    .dataframe thead th {\n",
       "        text-align: right;\n",
       "    }\n",
       "</style>\n",
       "<table border=\"1\" class=\"dataframe\">\n",
       "  <thead>\n",
       "    <tr style=\"text-align: right;\">\n",
       "      <th></th>\n",
       "      <th>Name</th>\n",
       "      <th>Quote</th>\n",
       "      <th>Tags</th>\n",
       "    </tr>\n",
       "  </thead>\n",
       "  <tbody>\n",
       "    <tr>\n",
       "      <th>count</th>\n",
       "      <td>100</td>\n",
       "      <td>100</td>\n",
       "      <td>100</td>\n",
       "    </tr>\n",
       "    <tr>\n",
       "      <th>unique</th>\n",
       "      <td>50</td>\n",
       "      <td>100</td>\n",
       "      <td>84</td>\n",
       "    </tr>\n",
       "    <tr>\n",
       "      <th>top</th>\n",
       "      <td>Albert Einstein</td>\n",
       "      <td>“The world as we have created it is a process ...</td>\n",
       "      <td>love</td>\n",
       "    </tr>\n",
       "    <tr>\n",
       "      <th>freq</th>\n",
       "      <td>10</td>\n",
       "      <td>1</td>\n",
       "      <td>4</td>\n",
       "    </tr>\n",
       "  </tbody>\n",
       "</table>\n",
       "</div>"
      ],
      "text/plain": [
       "                   Name                                              Quote   \n",
       "count               100                                                100  \\\n",
       "unique               50                                                100   \n",
       "top     Albert Einstein  “The world as we have created it is a process ...   \n",
       "freq                 10                                                  1   \n",
       "\n",
       "        Tags  \n",
       "count    100  \n",
       "unique    84  \n",
       "top     love  \n",
       "freq       4  "
      ]
     },
     "execution_count": 7,
     "metadata": {},
     "output_type": "execute_result"
    }
   ],
   "source": [
    "Quote_df.describe()    # Generates descriptive statistics for the numerical columns in the DataFrame"
   ]
  },
  {
   "cell_type": "code",
   "execution_count": 8,
   "id": "13787c7f",
   "metadata": {},
   "outputs": [
    {
     "data": {
      "text/plain": [
       "300"
      ]
     },
     "execution_count": 8,
     "metadata": {},
     "output_type": "execute_result"
    }
   ],
   "source": [
    "Quote_df.size    # Returns the number of elements in the DataFrame."
   ]
  },
  {
   "cell_type": "code",
   "execution_count": 9,
   "id": "c54fe0f1",
   "metadata": {},
   "outputs": [
    {
     "data": {
      "text/plain": [
       "(100, 3)"
      ]
     },
     "execution_count": 9,
     "metadata": {},
     "output_type": "execute_result"
    }
   ],
   "source": [
    "Quote_df.shape    # Returns a tuple representing the dimensions of the DataFrame."
   ]
  },
  {
   "cell_type": "code",
   "execution_count": 10,
   "id": "6e26e553",
   "metadata": {},
   "outputs": [],
   "source": [
    "Quote_df.to_csv('Quotes_Scrapped.csv')    # Writes the DataFrame to a CSV file named 'Quotes_Scrapped.csv'."
   ]
  },
  {
   "cell_type": "code",
   "execution_count": null,
   "id": "7bdb03c0",
   "metadata": {},
   "outputs": [],
   "source": [
    "# End of Web Scrapping"
   ]
  }
 ],
 "metadata": {
  "kernelspec": {
   "display_name": "Python 3",
   "language": "python",
   "name": "python3"
  },
  "language_info": {
   "codemirror_mode": {
    "name": "ipython",
    "version": 3
   },
   "file_extension": ".py",
   "mimetype": "text/x-python",
   "name": "python",
   "nbconvert_exporter": "python",
   "pygments_lexer": "ipython3",
   "version": "3.11.3"
  }
 },
 "nbformat": 4,
 "nbformat_minor": 5
}
